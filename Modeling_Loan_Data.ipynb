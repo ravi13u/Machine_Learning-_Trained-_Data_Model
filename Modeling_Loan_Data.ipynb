{
 "cells": [
  {
   "cell_type": "code",
   "execution_count": 2,
   "metadata": {},
   "outputs": [
    {
     "data": {
      "text/plain": [
       "((614, 13), (367, 12))"
      ]
     },
     "execution_count": 2,
     "metadata": {},
     "output_type": "execute_result"
    }
   ],
   "source": [
    "import pandas as pd \n",
    "import numpy as np\n",
    "\n",
    "train = pd.read_csv(\"train_modified.csv\")\n",
    "test = pd.read_csv(\"test_modified.csv\")\n",
    "train.shape,test.shape"
   ]
  },
  {
   "cell_type": "code",
   "execution_count": 27,
   "metadata": {},
   "outputs": [],
   "source": [
    "from sklearn.linear_model import LogisticRegression\n",
    "from sklearn.cross_validation import KFold \n",
    "from sklearn.ensemble import RandomForestClassifier\n",
    "from sklearn.tree import DecisionTreeClassifier, export_graphviz\n",
    "from sklearn import cross_validation, metrics\n",
    "\n",
    "def classification_model(model, data, predictors, outcome):\n",
    "\n",
    "   model.fit(data[predictors],data[outcome])\n",
    "\n",
    "   predictions = model.predict(data[predictors])\n",
    "\n",
    "   accuracy = metrics.accuracy_score(predictions,data[outcome])\n",
    "   print \"Accuracy : %s\" % \"{0:.3%}\".format(accuracy)\n",
    "\n",
    "   kf = KFold(data.shape[0], n_folds=5)\n",
    "   error = []\n",
    "   for train, test in kf:\n",
    "\n",
    "      train_predictors = (data[predictors].iloc[train,:])\n",
    "\n",
    "      train_target = data[outcome].iloc[train]\n",
    "\n",
    "      model.fit(train_predictors, train_target)\n",
    "\n",
    "      error.append(model.score(data[predictors].iloc[test,:], data[outcome].iloc[test]))\n",
    "    \n",
    "      print \"Cross-Validation Score : %s\" % \"{0:.3%}\".format(np.mean(error))\n",
    "\n",
    "      model.fit(data[predictors],data[outcome])\n",
    "    "
   ]
  },
  {
   "cell_type": "code",
   "execution_count": 28,
   "metadata": {},
   "outputs": [
    {
     "name": "stdout",
     "output_type": "stream",
     "text": [
      "Accuracy : 80.945%\n",
      "Cross-Validation Score : 80.488%\n",
      "Cross-Validation Score : 78.455%\n",
      "Cross-Validation Score : 79.133%\n",
      "Cross-Validation Score : 80.691%\n",
      "Cross-Validation Score : 80.946%\n"
     ]
    }
   ],
   "source": [
    "outcome_var = 'Loan_Status'\n",
    "model = LogisticRegression()\n",
    "predictor_var = ['Credit_History']\n",
    "classification_model(model, train,predictor_var,outcome_var)"
   ]
  },
  {
   "cell_type": "code",
   "execution_count": 25,
   "metadata": {},
   "outputs": [
    {
     "name": "stdout",
     "output_type": "stream",
     "text": [
      "Accuracy : 80.945%\n",
      "Cross-Validation Score : 80.488%\n",
      "Cross-Validation Score : 78.455%\n",
      "Cross-Validation Score : 79.133%\n",
      "Cross-Validation Score : 80.691%\n",
      "Cross-Validation Score : 80.946%\n"
     ]
    }
   ],
   "source": [
    "model = DecisionTreeClassifier()\n",
    "predictor_var = ['Credit_History','Gender','Married','Education']\n",
    "classification_model(model, train,predictor_var,outcome_var)"
   ]
  },
  {
   "cell_type": "code",
   "execution_count": 32,
   "metadata": {},
   "outputs": [
    {
     "name": "stdout",
     "output_type": "stream",
     "text": [
      "Accuracy : 86.156%\n",
      "Cross-Validation Score : 77.236%\n",
      "Cross-Validation Score : 75.203%\n",
      "Cross-Validation Score : 75.881%\n",
      "Cross-Validation Score : 76.829%\n",
      "Cross-Validation Score : 77.529%\n"
     ]
    }
   ],
   "source": [
    "model = RandomForestClassifier(n_estimators=200)\n",
    "predictor_var = ['Gender', 'Married', 'Dependents', 'Education',\n",
    "                 'Self_Employed', 'Loan_Amount_Term', 'Credit_History', 'Property_Area']\n",
    "classification_model(model, train,predictor_var,outcome_var)"
   ]
  },
  {
   "cell_type": "code",
   "execution_count": null,
   "metadata": {
    "collapsed": true
   },
   "outputs": [],
   "source": []
  }
 ],
 "metadata": {
  "kernelspec": {
   "display_name": "Python 2",
   "language": "python",
   "name": "python2"
  },
  "language_info": {
   "codemirror_mode": {
    "name": "ipython",
    "version": 2
   },
   "file_extension": ".py",
   "mimetype": "text/x-python",
   "name": "python",
   "nbconvert_exporter": "python",
   "pygments_lexer": "ipython2",
   "version": "2.7.14"
  }
 },
 "nbformat": 4,
 "nbformat_minor": 2
}
